{
 "cells": [
  {
   "cell_type": "code",
   "execution_count": 52,
   "id": "ec515be1",
   "metadata": {},
   "outputs": [],
   "source": [
    "import numpy as np\n",
    "import matplotlib.pyplot as plt\n",
    "import seaborn as sns\n",
    "import pandas as pd\n",
    "\n",
    "#per la rimozione degli outliers\n",
    "from scipy import stats\n",
    "\n",
    "#per la vecchia regressione\n",
    "from sklearn.model_selection import train_test_split\n",
    "from sklearn.linear_model import Ridge\n",
    "from sklearn.metrics import mean_squared_error, r2_score\n",
    "from sklearn.linear_model import LinearRegression\n",
    "\n",
    "#dal notebook del professore\n",
    "from sklearn.metrics import r2_score, mean_squared_error, mean_absolute_error\n",
    "from sklearn.linear_model import Lasso\n",
    "from sklearn.tree import DecisionTreeRegressor\n",
    "from sklearn.neighbors import KNeighborsRegressor"
   ]
  },
  {
   "cell_type": "markdown",
   "id": "8e020eb5",
   "metadata": {},
   "source": [
    "## Preproessing"
   ]
  },
  {
   "cell_type": "code",
   "execution_count": 2,
   "id": "6e2966b6",
   "metadata": {},
   "outputs": [],
   "source": [
    "df=pd.read_csv('train.csv', skipinitialspace=True)"
   ]
  },
  {
   "cell_type": "code",
   "execution_count": 3,
   "id": "f857dd7b",
   "metadata": {},
   "outputs": [],
   "source": [
    "df=df.drop(['features_duration_ms'], axis=1)"
   ]
  },
  {
   "cell_type": "code",
   "execution_count": 4,
   "id": "fdc5d1b8",
   "metadata": {},
   "outputs": [],
   "source": [
    "df['duration_ms'] = df['duration_ms'].apply(lambda x: x/1000)"
   ]
  },
  {
   "cell_type": "code",
   "execution_count": 5,
   "id": "09237000",
   "metadata": {},
   "outputs": [],
   "source": [
    "#non faccio i round per avere dati più precisi per la regressione"
   ]
  },
  {
   "cell_type": "code",
   "execution_count": 6,
   "id": "9dbdfec2",
   "metadata": {},
   "outputs": [
    {
     "data": {
      "text/plain": [
       "name                         0\n",
       "duration_ms                  0\n",
       "explicit                     0\n",
       "popularity                   0\n",
       "artists                      0\n",
       "album_name                   0\n",
       "danceability                 0\n",
       "energy                       0\n",
       "key                          0\n",
       "loudness                     0\n",
       "mode                      4450\n",
       "speechiness                  0\n",
       "acousticness                 0\n",
       "instrumentalness             0\n",
       "liveness                     0\n",
       "valence                      0\n",
       "tempo                        0\n",
       "time_signature            2062\n",
       "n_beats                      0\n",
       "n_bars                       0\n",
       "popularity_confidence    12783\n",
       "processing                   0\n",
       "genre                        0\n",
       "dtype: int64"
      ]
     },
     "execution_count": 6,
     "metadata": {},
     "output_type": "execute_result"
    }
   ],
   "source": [
    "df.isnull().sum()"
   ]
  },
  {
   "cell_type": "code",
   "execution_count": 7,
   "id": "a38d27a4",
   "metadata": {},
   "outputs": [],
   "source": [
    "#provo a concentrarmi su time_signature e droppo le altre due colonne con nan"
   ]
  },
  {
   "cell_type": "code",
   "execution_count": 9,
   "id": "111692bf",
   "metadata": {},
   "outputs": [],
   "source": [
    "genres = sorted(df['genre'].unique())\n",
    "genres_mapping = dict(zip(genres, range(0, len(genres) + 1)))\n",
    "df['genres_val'] = df['genre'].map(genres_mapping).astype(int)\n",
    "\n",
    "expl = sorted(df['explicit'].unique())\n",
    "expl_mapping = dict(zip(expl, range(0, len(expl) + 1)))\n",
    "\n",
    "df['explicit_val'] = df['explicit'].map(expl_mapping).astype(int)\n",
    "df=df.drop(['name', 'explicit', 'artists','album_name', 'genre', 'mode', 'popularity_confidence'], axis=1)"
   ]
  },
  {
   "cell_type": "markdown",
   "id": "9e561b3d",
   "metadata": {},
   "source": [
    "### Rimozione degli outliers"
   ]
  },
  {
   "cell_type": "code",
   "execution_count": 11,
   "id": "fa196886",
   "metadata": {},
   "outputs": [],
   "source": [
    "# Select only numeric columns for z-score calculation (excluding non-numeric or string columns)\n",
    "numeric_columns = df[['duration_ms', 'danceability', 'energy', 'loudness', 'speechiness', 'acousticness', 'instrumentalness', 'liveness', 'valence', 'tempo', 'n_beats', 'n_bars', 'processing']]\n",
    "\n",
    "z_scores = np.abs(stats.zscore(numeric_columns))\n",
    "threshold = 3  # Set a threshold for z-score (usually 2 to 3)\n",
    "\n",
    "# Find outliers using z-score\n",
    "outliers = (z_scores > threshold).any(axis=1)\n",
    "\n",
    "\n",
    "df = df[~outliers]"
   ]
  },
  {
   "cell_type": "markdown",
   "id": "a17cee6e",
   "metadata": {},
   "source": [
    "### Divisione del dataset"
   ]
  },
  {
   "cell_type": "code",
   "execution_count": 12,
   "id": "694bfcc3",
   "metadata": {},
   "outputs": [],
   "source": [
    "test=df[df['time_signature'].isnull()]\n",
    "train=df[~df['time_signature'].isnull()]"
   ]
  },
  {
   "cell_type": "code",
   "execution_count": 34,
   "id": "9d002608",
   "metadata": {},
   "outputs": [],
   "source": [
    "X_iniz=train[['duration_ms', 'danceability', 'energy', 'key', 'loudness', 'speechiness', 'acousticness', 'instrumentalness', 'liveness', 'valence', 'tempo', 'n_beats', 'n_bars', 'processing']]\n",
    "y_iniz=train['time_signature']\n",
    "X_test=test[['duration_ms', 'danceability', 'energy', 'key', 'loudness', 'speechiness', 'acousticness', 'instrumentalness', 'liveness', 'valence', 'tempo', 'n_beats', 'n_bars', 'processing']]\n",
    "y_test=test['time_signature']"
   ]
  },
  {
   "cell_type": "code",
   "execution_count": 35,
   "id": "b71691d1",
   "metadata": {},
   "outputs": [],
   "source": [
    "X_train, X_val, y_train, y_val = train_test_split(X_iniz, y_iniz, test_size=0.2, random_state=42)"
   ]
  },
  {
   "cell_type": "code",
   "execution_count": 38,
   "id": "8e2c6498",
   "metadata": {},
   "outputs": [
    {
     "data": {
      "text/plain": [
       "6414     4.0\n",
       "11009    4.0\n",
       "2061     4.0\n",
       "609      4.0\n",
       "7898     4.0\n",
       "        ... \n",
       "8519     4.0\n",
       "500      4.0\n",
       "8950     3.0\n",
       "1489     4.0\n",
       "6197     1.0\n",
       "Name: time_signature, Length: 2328, dtype: float64"
      ]
     },
     "execution_count": 38,
     "metadata": {},
     "output_type": "execute_result"
    }
   ],
   "source": [
    "y_val"
   ]
  },
  {
   "cell_type": "markdown",
   "id": "605700cb",
   "metadata": {},
   "source": [
    "## Vecchia Regressione"
   ]
  },
  {
   "cell_type": "code",
   "execution_count": 18,
   "id": "9944b761",
   "metadata": {},
   "outputs": [],
   "source": [
    "regression_model = Ridge(alpha=0.5)"
   ]
  },
  {
   "cell_type": "code",
   "execution_count": 20,
   "id": "2ae93443",
   "metadata": {},
   "outputs": [
    {
     "data": {
      "image/png": "[encoded data removed]",
      "text/plain": [
       "<Figure size 1200x600 with 2 Axes>"
      ]
     },
     "metadata": {},
     "output_type": "display_data"
    },
    {
     "name": "stdout",
     "output_type": "stream",
     "text": [
      "0.35041441837248355\n",
      "0.10355956057755608\n"
     ]
    }
   ],
   "source": [
    "train_sizes, train_mse, val_mse, train_r2, val_r2 = [], [], [], [], []\n",
    "\n",
    "for train_size in range(150, len(X_train), 100):  # You can adjust the step size\n",
    "    X_subset, y_subset = X_train[:train_size], y_train[:train_size]\n",
    "    \n",
    "    regression_model.fit(X_subset, y_subset)\n",
    "    \n",
    "    # Make predictions on the validation set\n",
    "    y_val_pred = regression_model.predict(X_val)\n",
    "    \n",
    "    # Calculate validation MSE and R-squared\n",
    "    val_mse_value = mean_squared_error(y_val, y_val_pred)\n",
    "    val_r2_value = r2_score(y_val, y_val_pred)\n",
    "    \n",
    "    train_sizes.append(train_size)\n",
    "    train_mse.append(mean_squared_error(y_subset, regression_model.predict(X_subset)))\n",
    "    val_mse.append(val_mse_value)\n",
    "    train_r2.append(r2_score(y_subset, regression_model.predict(X_subset)))\n",
    "    val_r2.append(val_r2_value)\n",
    "\n",
    "# Plot learning curves for MSE and R-squared\n",
    "plt.figure(figsize=(12, 6))\n",
    "\n",
    "# Plot MSE\n",
    "plt.subplot(1, 2, 1)\n",
    "plt.plot(train_sizes, train_mse, label='Training MSE')\n",
    "plt.plot(train_sizes, val_mse, label='Validation MSE')\n",
    "plt.xlabel('Training Set Size')\n",
    "plt.ylabel('Mean Squared Error')\n",
    "plt.legend()\n",
    "plt.title('Learning Curves (MSE)')\n",
    "\n",
    "# Plot R-squared\n",
    "plt.subplot(1, 2, 2)\n",
    "plt.plot(train_sizes, train_r2, label='Training R2')\n",
    "plt.plot(train_sizes, val_r2, label='Validation R2')\n",
    "plt.xlabel('Training Set Size')\n",
    "plt.ylabel('R-squared')\n",
    "plt.legend()\n",
    "plt.title('Learning Curves (R-squared)')\n",
    "\n",
    "plt.tight_layout()\n",
    "plt.show()\n",
    "\n",
    "print(val_r2_value)\n",
    "print(val_mse_value)"
   ]
  },
  {
   "cell_type": "code",
   "execution_count": 23,
   "id": "83857ecb",
   "metadata": {},
   "outputs": [
    {
     "name": "stdout",
     "output_type": "stream",
     "text": [
      "Mean Squared Error on Validation Data: 0.1158053286092801\n",
      "Root Mean Squared Error on Validation Data: 0.34030181987359415\n",
      "R-squared on Validation Data: 0.33016881702807943\n"
     ]
    }
   ],
   "source": [
    "# Model selection and training\n",
    "regression_model = LinearRegression()\n",
    "regression_model.fit(X_train, y_train)\n",
    "\n",
    "# Predict null values\n",
    "predicted_values = regression_model.predict(X_test)\n",
    "\n",
    "# Replace null values with predicted values\n",
    "df.loc[df['time_signature'].isnull(), 'time_signature'] = predicted_values\n",
    "\n",
    "# Model evaluation\n",
    "X_train, X_val, y_train, y_val = train_test_split(X_train, y_train, test_size=0.2, random_state=42)\n",
    "\n",
    "regression_model.fit(X_train, y_train)\n",
    "y_val_pred = regression_model.predict(X_val)\n",
    "\n",
    "mse = mean_squared_error(y_val, y_val_pred)\n",
    "rmse = mse ** 0.5\n",
    "r2 = r2_score(y_val, y_val_pred)\n",
    "\n",
    "print(f\"Mean Squared Error on Validation Data: {mse}\")\n",
    "print(f\"Root Mean Squared Error on Validation Data: {rmse}\")\n",
    "print(f\"R-squared on Validation Data: {r2}\")"
   ]
  },
  {
   "cell_type": "code",
   "execution_count": 33,
   "id": "b4cec5c0",
   "metadata": {},
   "outputs": [
    {
     "name": "stdout",
     "output_type": "stream",
     "text": [
      "R2: 0.350\n",
      "MSE: 0.104\n",
      "MAE: 0.107\n"
     ]
    }
   ],
   "source": [
    "y_pred = regression_model.predict(X_test)\n",
    "print('R2: %.3f' % r2_score(y_test, y_pred))\n",
    "print('MSE: %.3f' % mean_squared_error(y_test, y_pred))\n",
    "print('MAE: %.3f' % mean_absolute_error(y_test, y_pred))"
   ]
  },
  {
   "cell_type": "markdown",
   "id": "cb5a0c05",
   "metadata": {},
   "source": [
    "## Decision tree"
   ]
  },
  {
   "cell_type": "code",
   "execution_count": 47,
   "id": "21c39557",
   "metadata": {},
   "outputs": [],
   "source": [
    "#df_val=df[df[\"time_signature\"].isin(y_val.values)]"
   ]
  },
  {
   "cell_type": "code",
   "execution_count": 53,
   "id": "5e67f70c",
   "metadata": {},
   "outputs": [],
   "source": [
    "reg = DecisionTreeRegressor()"
   ]
  },
  {
   "cell_type": "code",
   "execution_count": 54,
   "id": "f9ee5e28",
   "metadata": {},
   "outputs": [
    {
     "data": {
      "text/plain": [
       "DecisionTreeRegressor()"
      ]
     },
     "execution_count": 54,
     "metadata": {},
     "output_type": "execute_result"
    }
   ],
   "source": [
    "reg.fit(X_train, y_train)"
   ]
  },
  {
   "cell_type": "code",
   "execution_count": 56,
   "id": "0c251740",
   "metadata": {},
   "outputs": [
    {
     "name": "stdout",
     "output_type": "stream",
     "text": [
      "R2: -0.832\n",
      "MSE: 0.292\n",
      "MAE: 0.157\n"
     ]
    }
   ],
   "source": [
    "y_pred = reg.predict(X_val)\n",
    "print('R2: %.3f' % r2_score(y_val, y_pred))\n",
    "print('MSE: %.3f' % mean_squared_error(y_val, y_pred))\n",
    "print('MAE: %.3f' % mean_absolute_error(y_val, y_pred))"
   ]
  },
  {
   "cell_type": "code",
   "execution_count": 66,
   "id": "78485b2d",
   "metadata": {},
   "outputs": [
    {
     "name": "stdout",
     "output_type": "stream",
     "text": [
      "Migliori parametri: {'max_depth': 5, 'min_samples_leaf': 4, 'min_samples_split': 2}\n",
      "Miglior punteggio: 0.18200613423236595\n",
      "Errore quadratico medio (MSE) sul test set: 0.14888746909480507\n"
     ]
    }
   ],
   "source": [
    "from sklearn.model_selection import GridSearchCV\n",
    "\n",
    "# Definisci l'albero decisionale\n",
    "decision_tree = DecisionTreeRegressor()\n",
    "\n",
    "# Definisci i parametri che desideri ottimizzare\n",
    "parametri = {\n",
    "    'max_depth': [None, 5, 10, 15],\n",
    "    'min_samples_split': [2, 5, 10],\n",
    "    'min_samples_leaf': [1, 2, 4]\n",
    "}\n",
    "\n",
    "# Crea un oggetto GridSearchCV\n",
    "grid_search = GridSearchCV(decision_tree, parametri, cv=5, scoring='neg_mean_squared_error', n_jobs=-1)\n",
    "\n",
    "# Esegui la ricerca degli iperparametri sul training set\n",
    "grid_search.fit(X_train, y_train)\n",
    "\n",
    "# Stampa i migliori parametri e il miglior punteggio\n",
    "print(\"Migliori parametri:\", grid_search.best_params_)\n",
    "print(\"Miglior punteggio:\", -grid_search.best_score_)\n",
    "\n",
    "# Fai predizioni sul test set utilizzando il modello con i migliori parametri\n",
    "best_model = grid_search.best_estimator_\n",
    "y_pred = best_model.predict(X_val)\n",
    "\n",
    "# Valuta le prestazioni del modello, ad esempio, calcolando l'errore quadratico medio (MSE)\n",
    "mse = mean_squared_error(y_val, y_pred)\n",
    "print(f\"Errore quadratico medio (MSE) sul test set: {mse}\")"
   ]
  },
  {
   "cell_type": "code",
   "execution_count": 67,
   "id": "04a9d610",
   "metadata": {},
   "outputs": [
    {
     "name": "stdout",
     "output_type": "stream",
     "text": [
      "R2: 0.066\n",
      "MSE: 0.149\n",
      "MAE: 0.164\n"
     ]
    }
   ],
   "source": [
    "print('R2: %.3f' % r2_score(y_val, y_pred))\n",
    "print('MSE: %.3f' % mean_squared_error(y_val, y_pred))\n",
    "print('MAE: %.3f' % mean_absolute_error(y_val, y_pred))"
   ]
  },
  {
   "cell_type": "markdown",
   "id": "fec5a2e0",
   "metadata": {},
   "source": [
    "## Knn"
   ]
  },
  {
   "cell_type": "code",
   "execution_count": 61,
   "id": "ffbb4a64",
   "metadata": {},
   "outputs": [
    {
     "name": "stdout",
     "output_type": "stream",
     "text": [
      "Il miglior valore di k è: 11\n"
     ]
    }
   ],
   "source": [
    "k_values = list(range(1, 21))\n",
    "\n",
    "from sklearn.model_selection import cross_val_score\n",
    "\n",
    "results = []\n",
    "\n",
    "for k in k_values:\n",
    "    knn = KNeighborsRegressor(n_neighbors=k)\n",
    "    scores = cross_val_score(knn, X_train, y_train, cv=5, scoring='neg_mean_squared_error')\n",
    "    mean_score = -scores.mean()  # Poiché vogliamo massimizzare il punteggio, invertiamo il segno\n",
    "    results.append((k, mean_score))\n",
    "    \n",
    "best_k = min(results, key=lambda x: x[1])[0]\n",
    "print(f\"Il miglior valore di k è: {best_k}\")"
   ]
  },
  {
   "cell_type": "code",
   "execution_count": 62,
   "id": "34006362",
   "metadata": {},
   "outputs": [],
   "source": [
    "reg = KNeighborsRegressor(n_neighbors=11)"
   ]
  },
  {
   "cell_type": "code",
   "execution_count": 63,
   "id": "268e77e9",
   "metadata": {},
   "outputs": [
    {
     "data": {
      "text/plain": [
       "KNeighborsRegressor(n_neighbors=11)"
      ]
     },
     "execution_count": 63,
     "metadata": {},
     "output_type": "execute_result"
    }
   ],
   "source": [
    "reg.fit(X_train, y_train)"
   ]
  },
  {
   "cell_type": "code",
   "execution_count": 64,
   "id": "494088ee",
   "metadata": {},
   "outputs": [
    {
     "name": "stdout",
     "output_type": "stream",
     "text": [
      "R2: 0.299\n",
      "MSE: 0.112\n",
      "MAE: 0.097\n"
     ]
    }
   ],
   "source": [
    "y_pred = reg.predict(X_val)\n",
    "print('R2: %.3f' % r2_score(y_val, y_pred))\n",
    "print('MSE: %.3f' % mean_squared_error(y_val, y_pred))\n",
    "print('MAE: %.3f' % mean_absolute_error(y_val, y_pred))"
   ]
  },
  {
   "cell_type": "code",
   "execution_count": null,
   "id": "a2180917",
   "metadata": {},
   "outputs": [],
   "source": []
  }
 ],
 "metadata": {
  "kernelspec": {
   "display_name": "Python 3 (ipykernel)",
   "language": "python",
   "name": "python3"
  },
  "language_info": {
   "codemirror_mode": {
    "name": "ipython",
    "version": 3
   },
   "file_extension": ".py",
   "mimetype": "text/x-python",
   "name": "python",
   "nbconvert_exporter": "python",
   "pygments_lexer": "ipython3",
   "version": "3.9.13"
  }
 },
 "nbformat": 4,
 "nbformat_minor": 5
}
